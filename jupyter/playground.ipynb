{
 "cells": [
  {
   "cell_type": "code",
   "execution_count": 1,
   "metadata": {},
   "outputs": [
    {
     "name": "stdout",
     "output_type": "stream",
     "text": [
      "/Users/wonjunekang/Desktop/MAS.S62/project/conversation-quality\n"
     ]
    }
   ],
   "source": [
    "cd .."
   ]
  },
  {
   "cell_type": "code",
   "execution_count": 3,
   "metadata": {},
   "outputs": [],
   "source": [
    "import pandas as pd\n",
    "import numpy as np\n",
    "import os"
   ]
  },
  {
   "cell_type": "code",
   "execution_count": 20,
   "metadata": {},
   "outputs": [
    {
     "data": {
      "text/plain": [
       "['lvn_452.csv',\n",
       " 'lvn_453.csv',\n",
       " 'lvn_451.csv',\n",
       " 'lvn_450.csv',\n",
       " 'lvn_454.csv',\n",
       " '.DS_Store']"
      ]
     },
     "execution_count": 20,
     "metadata": {},
     "output_type": "execute_result"
    }
   ],
   "source": [
    "csv_files = os.listdir('data/lvn/csv_preds_full_model')\n",
    "csv_files"
   ]
  },
  {
   "cell_type": "code",
   "execution_count": 23,
   "metadata": {},
   "outputs": [
    {
     "name": "stdout",
     "output_type": "stream",
     "text": [
      "lvn_450.csv\n",
      "[2.9  1.83 2.13 2.21]\n",
      "[0.18 0.12 0.12 0.1 ]\n",
      "\n",
      "lvn_451.csv\n",
      "[2.93 1.8  2.15 2.21]\n",
      "[0.38 0.24 0.22 0.16]\n",
      "\n",
      "lvn_452.csv\n",
      "[2.91 1.82 2.14 2.21]\n",
      "[0.3  0.18 0.16 0.12]\n",
      "\n",
      "lvn_453.csv\n",
      "[2.92 1.82 2.13 2.21]\n",
      "[0.24 0.14 0.14 0.12]\n",
      "\n",
      "lvn_454.csv\n",
      "[3.   1.8  2.18 2.22]\n",
      "[0.62 0.28 0.32 0.24]\n",
      "\n"
     ]
    }
   ],
   "source": [
    "for log_csv in sorted(csv_files):\n",
    "    if log_csv.startswith('lvn'):\n",
    "        csv_path = os.path.join('data/lvn/csv_preds_full_model', log_csv)\n",
    "        xval_results_df = pd.read_csv(csv_path, delimiter='\\t')\n",
    "        print(log_csv)\n",
    "        print(xval_results_df.mean().to_numpy().round(2))\n",
    "        print(2*xval_results_df.std().to_numpy().round(2))\n",
    "        print()\n"
   ]
  },
  {
   "cell_type": "code",
   "execution_count": null,
   "metadata": {},
   "outputs": [],
   "source": []
  }
 ],
 "metadata": {
  "kernelspec": {
   "display_name": "Python [conda env:conv-health] *",
   "language": "python",
   "name": "conda-env-conv-health-py"
  },
  "language_info": {
   "codemirror_mode": {
    "name": "ipython",
    "version": 3
   },
   "file_extension": ".py",
   "mimetype": "text/x-python",
   "name": "python",
   "nbconvert_exporter": "python",
   "pygments_lexer": "ipython3",
   "version": "3.7.9"
  }
 },
 "nbformat": 4,
 "nbformat_minor": 4
}
